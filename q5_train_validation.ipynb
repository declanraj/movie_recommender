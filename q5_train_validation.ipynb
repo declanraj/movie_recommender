{
 "cells": [
  {
   "cell_type": "code",
   "execution_count": 1,
   "id": "aa2f7c31",
   "metadata": {},
   "outputs": [],
   "source": [
    "import os\n",
    "from pyspark.sql import SparkSession\n",
    "from pyspark.sql.functions import col, collect_list, when, desc, rank, mean\n",
    "from pyspark.sql.window import Window\n",
    "from pyspark.ml.recommendation import ALS\n",
    "from pyspark.mllib.evaluation import RankingMetrics"
   ]
  },
  {
   "cell_type": "code",
   "execution_count": 2,
   "id": "4fa46d74",
   "metadata": {},
   "outputs": [],
   "source": [
    "def main(spark, userID):\n",
    "\n",
    "#    train = spark.read.parquet('/scratch/sjm643/sp24_bigd/rec_small/train.parquet')\n",
    "#    val = spark.read.parquet('/scratch/sjm643/sp24_bigd/rec_small/val.parquet')\n",
    "\n",
    "    train = spark.read.parquet('/scratch/sjm643/sp24_bigd/rec/train.parquet')\n",
    "    val = spark.read.parquet('/scratch/sjm643/sp24_bigd/rec/val.parquet')\n",
    "    \n",
    "    best_MAP = 0\n",
    "    \n",
    "    for reg in [.01, .05, .1, .15]:\n",
    "        for rk in [10, 50, 100, 150]:\n",
    "    \n",
    "            als = ALS(rank=rk, maxIter=10, regParam=reg,\n",
    "                      userCol='userId', itemCol='movieId', ratingCol='rating', coldStartStrategy='drop')\n",
    "\n",
    "            model = als.fit(train)\n",
    "            predictions = model.transform(val)\n",
    "            \n",
    "            window_spec = Window.partitionBy('userId').orderBy(desc('prediction'))\n",
    "            ranked_pred = predictions.withColumn('rank', rank().over(window_spec))\n",
    "            top_100_per_user = ranked_pred.filter(col('rank') <= 100)\n",
    "            top_100_per_user = top_100_per_user.drop(col('rank'))\n",
    "\n",
    "            top_100_per_user_rdd = top_100_per_user.rdd.map(\n",
    "                lambda row: (row['userId'], row['movieId'])).groupByKey().mapValues(list)\n",
    "\n",
    "            mean_ratings_per_user = val.groupBy('userId').agg(mean(\"rating\").alias(\"mean_rating\"))                                            \n",
    "\n",
    "            movies_with_mean = val.join(mean_ratings_per_user, 'userId', 'inner')\n",
    "            movies_above_mean = movies_with_mean.filter(col('rating') > col('mean_rating'))\n",
    "\n",
    "            movies_above_mean_rdd = movies_above_mean.rdd.map(\n",
    "                lambda row: (row['userId'], row['movieId'])).groupByKey().mapValues(list)\n",
    "\n",
    "            preds_and_labels = top_100_per_user_rdd.join(movies_above_mean_rdd).map(lambda row: (row[1][0], row[1][1])).collect()\n",
    "            preds_and_labels_par = spark.sparkContext.parallelize(preds_and_labels)   \n",
    "\n",
    "            metrics = RankingMetrics(preds_and_labels_par)\n",
    "\n",
    "            MAP = metrics.meanAveragePrecision\n",
    "            print(f'hyperparameters: reg={reg}, rank={rk}, MAP={MAP}')\n",
    "            if MAP > best_MAP:\n",
    "                best_MAP = MAP\n",
    "                best_reg = reg\n",
    "                best_rank = rk\n",
    "    \n",
    "    print(f'best hyperparameters: reg={best_reg}, rank={best_rank}')\n",
    "    print(f'highest MAP = {best_MAP}')"
   ]
  },
  {
   "cell_type": "code",
   "execution_count": 3,
   "id": "7e9750d1",
   "metadata": {},
   "outputs": [
    {
     "name": "stderr",
     "output_type": "stream",
     "text": [
      "WARNING: An illegal reflective access operation has occurred\n",
      "WARNING: Illegal reflective access by org.apache.spark.unsafe.Platform (file:/ext3/spark-3.1.2-bin-hadoop3.2/jars/spark-unsafe_2.12-3.1.2.jar) to constructor java.nio.DirectByteBuffer(long,int)\n",
      "WARNING: Please consider reporting this to the maintainers of org.apache.spark.unsafe.Platform\n",
      "WARNING: Use --illegal-access=warn to enable warnings of further illegal reflective access operations\n",
      "WARNING: All illegal access operations will be denied in a future release\n",
      "24/05/11 23:09:03 WARN NativeCodeLoader: Unable to load native-hadoop library for your platform... using builtin-java classes where applicable\n",
      "Using Spark's default log4j profile: org/apache/spark/log4j-defaults.properties\n",
      "Setting default log level to \"WARN\".\n",
      "To adjust logging level use sc.setLogLevel(newLevel). For SparkR, use setLogLevel(newLevel).\n",
      "24/05/11 23:09:19 WARN BLAS: Failed to load implementation from: com.github.fommil.netlib.NativeSystemBLAS\n",
      "24/05/11 23:09:19 WARN BLAS: Failed to load implementation from: com.github.fommil.netlib.NativeRefBLAS\n",
      "24/05/11 23:09:20 WARN LAPACK: Failed to load implementation from: com.github.fommil.netlib.NativeSystemLAPACK\n",
      "24/05/11 23:09:20 WARN LAPACK: Failed to load implementation from: com.github.fommil.netlib.NativeRefLAPACK\n",
      "                                                                                \r"
     ]
    },
    {
     "name": "stdout",
     "output_type": "stream",
     "text": [
      "hyperparameters: reg=0.01, rank=10, MAP=0.7147487979969479\n"
     ]
    },
    {
     "name": "stderr",
     "output_type": "stream",
     "text": [
      "                                                                                \r"
     ]
    },
    {
     "name": "stdout",
     "output_type": "stream",
     "text": [
      "hyperparameters: reg=0.01, rank=50, MAP=0.7053154561101421\n"
     ]
    },
    {
     "name": "stderr",
     "output_type": "stream",
     "text": [
      "                                                                                \r"
     ]
    },
    {
     "name": "stdout",
     "output_type": "stream",
     "text": [
      "hyperparameters: reg=0.01, rank=100, MAP=0.7088555511471046\n"
     ]
    },
    {
     "name": "stderr",
     "output_type": "stream",
     "text": [
      "                                                                                \r"
     ]
    },
    {
     "name": "stdout",
     "output_type": "stream",
     "text": [
      "hyperparameters: reg=0.01, rank=150, MAP=0.7129826663978723\n"
     ]
    },
    {
     "name": "stderr",
     "output_type": "stream",
     "text": [
      "                                                                                \r"
     ]
    },
    {
     "name": "stdout",
     "output_type": "stream",
     "text": [
      "hyperparameters: reg=0.05, rank=10, MAP=0.7356838368145181\n"
     ]
    },
    {
     "name": "stderr",
     "output_type": "stream",
     "text": [
      "                                                                                \r"
     ]
    },
    {
     "name": "stdout",
     "output_type": "stream",
     "text": [
      "hyperparameters: reg=0.05, rank=50, MAP=0.7460291996017364\n"
     ]
    },
    {
     "name": "stderr",
     "output_type": "stream",
     "text": [
      "                                                                                \r"
     ]
    },
    {
     "name": "stdout",
     "output_type": "stream",
     "text": [
      "hyperparameters: reg=0.05, rank=100, MAP=0.7500132912595657\n"
     ]
    },
    {
     "name": "stderr",
     "output_type": "stream",
     "text": [
      "                                                                                \r"
     ]
    },
    {
     "name": "stdout",
     "output_type": "stream",
     "text": [
      "hyperparameters: reg=0.05, rank=150, MAP=0.7513355097652926\n"
     ]
    },
    {
     "name": "stderr",
     "output_type": "stream",
     "text": [
      "                                                                                \r"
     ]
    },
    {
     "name": "stdout",
     "output_type": "stream",
     "text": [
      "hyperparameters: reg=0.1, rank=10, MAP=0.7407226551956696\n"
     ]
    },
    {
     "name": "stderr",
     "output_type": "stream",
     "text": [
      "                                                                                \r"
     ]
    },
    {
     "name": "stdout",
     "output_type": "stream",
     "text": [
      "hyperparameters: reg=0.1, rank=50, MAP=0.7458735936417\n"
     ]
    },
    {
     "name": "stderr",
     "output_type": "stream",
     "text": [
      "                                                                                \r"
     ]
    },
    {
     "name": "stdout",
     "output_type": "stream",
     "text": [
      "hyperparameters: reg=0.1, rank=100, MAP=0.7461316559023654\n"
     ]
    },
    {
     "name": "stderr",
     "output_type": "stream",
     "text": [
      "                                                                                ]\r"
     ]
    },
    {
     "name": "stdout",
     "output_type": "stream",
     "text": [
      "hyperparameters: reg=0.1, rank=150, MAP=0.7463411538469942\n"
     ]
    },
    {
     "name": "stderr",
     "output_type": "stream",
     "text": [
      "                                                                                \r"
     ]
    },
    {
     "name": "stdout",
     "output_type": "stream",
     "text": [
      "hyperparameters: reg=0.15, rank=10, MAP=0.7311171033319837\n"
     ]
    },
    {
     "name": "stderr",
     "output_type": "stream",
     "text": [
      "                                                                                ]\r"
     ]
    },
    {
     "name": "stdout",
     "output_type": "stream",
     "text": [
      "hyperparameters: reg=0.15, rank=50, MAP=0.7319180080857891\n"
     ]
    },
    {
     "name": "stderr",
     "output_type": "stream",
     "text": [
      "                                                                                ]\r"
     ]
    },
    {
     "name": "stdout",
     "output_type": "stream",
     "text": [
      "hyperparameters: reg=0.15, rank=100, MAP=0.7320140046446268\n"
     ]
    },
    {
     "name": "stderr",
     "output_type": "stream",
     "text": [
      "                                                                                \r"
     ]
    },
    {
     "name": "stdout",
     "output_type": "stream",
     "text": [
      "hyperparameters: reg=0.15, rank=150, MAP=0.7320569481930816\n",
      "best hyperparameters: reg=0.05, rank=150\n",
      "highest MAP = 0.7513355097652926\n"
     ]
    }
   ],
   "source": [
    "if __name__ == \"__main__\":\n",
    "\n",
    "    spark = SparkSession.builder \\\n",
    "    .appName(\"Spark Application\") \\\n",
    "    .config(\"spark.executor.memory\", \"16g\") \\\n",
    "    .config(\"spark.driver.memory\", \"16g\") \\\n",
    "    .config(\"spark.serializer\", \"org.apache.spark.serializer.KryoSerializer\") \\\n",
    "    .config(\"spark.sql.broadcastTimeout\", \"7200\") \\\n",
    "    .config(\"spark.driver.extraJavaOptions\", \"-XX:+UseG1GC\") \\\n",
    "    .config(\"spark.executor.extraJavaOptions\", \"-XX:+UseG1GC\") \\\n",
    "    .getOrCreate()\n",
    "    \n",
    "    userID = os.environ['USER']\n",
    "\n",
    "    main(spark, userID)"
   ]
  }
 ],
 "metadata": {
  "kernelspec": {
   "display_name": "Python 3 (ipykernel)",
   "language": "python",
   "name": "python3"
  },
  "language_info": {
   "codemirror_mode": {
    "name": "ipython",
    "version": 3
   },
   "file_extension": ".py",
   "mimetype": "text/x-python",
   "name": "python",
   "nbconvert_exporter": "python",
   "pygments_lexer": "ipython3",
   "version": "3.8.12"
  }
 },
 "nbformat": 4,
 "nbformat_minor": 5
}
